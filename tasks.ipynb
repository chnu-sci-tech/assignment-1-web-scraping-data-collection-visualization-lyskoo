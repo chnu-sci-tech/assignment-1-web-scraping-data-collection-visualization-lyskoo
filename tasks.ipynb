{
 "cells": [
  {
   "cell_type": "markdown",
   "metadata": {},
   "source": [
    "# Tasks for laboratory assignment 1"
   ]
  },
  {
   "cell_type": "code",
   "execution_count": 2,
   "metadata": {
    "ExecuteTime": {
     "end_time": "2024-10-05T13:01:40.350246800Z",
     "start_time": "2024-10-05T13:01:40.086407500Z"
    }
   },
   "outputs": [],
   "source": [
    "# imports section\n",
    "\n",
    "import requests\n",
    "from bs4 import BeautifulSoup\n",
    "import json\n",
    "import pandas as pd\n",
    "from datetime import datetime\n",
    "import csv\n",
    "import numpy as np\n",
    "import matplotlib.pyplot as plt"
   ]
  },
  {
   "cell_type": "markdown",
   "metadata": {},
   "source": [
    "## Extract webpage data given the url\n",
    "\n",
    "Create a Python script that performs basic web scraping on a page to extract all the information into text and returns it as a string.\n",
    "String should not contain tags."
   ]
  },
  {
   "cell_type": "code",
   "execution_count": 3,
   "metadata": {
    "ExecuteTime": {
     "end_time": "2024-10-05T13:01:41.822955400Z",
     "start_time": "2024-10-05T13:01:40.146421Z"
    }
   },
   "outputs": [
    {
     "name": "stdout",
     "output_type": "stream",
     "text": [
      "Головна - Факультет математики та інформатики Перейти до основного вмісту [email protected] 58012, Україна, м. Чернівці, вул. Університетська, 28 Новини Всі Загальні Оголошення Події Студенту Викладачу Вітання Діяльність Наукова Навчально-методична Міжнар\n",
      "Web scraping - Wikipedia Jump to content Main menu Main menu move to sidebar hide Navigation Main page Contents Current events Random article About Wikipedia Contact us Contribute Help Learn to edit Community portal Recent changes Upload file Search Searc\n"
     ]
    }
   ],
   "source": [
    "def parse_web_page(url):\n",
    "    response = requests.get(url)\n",
    "    response.raise_for_status()\n",
    "\n",
    "    soup = BeautifulSoup(response.text, 'html.parser')\n",
    "    return soup.get_text(separator=' ', strip=True)\n",
    "\n",
    "print(parse_web_page('https://fmi.chnu.edu.ua/')[:255])\n",
    "print(parse_web_page('https://en.wikipedia.org/wiki/Web_scraping')[:255])"
   ]
  },
  {
   "cell_type": "markdown",
   "metadata": {},
   "source": [
    "## Get data from the API\n",
    "\n",
    "Create a python script that performs basic request to API endpoint and saves that data to a JSON file `result.json`."
   ]
  },
  {
   "cell_type": "code",
   "execution_count": 4,
   "metadata": {
    "ExecuteTime": {
     "end_time": "2024-10-05T13:01:42.141500500Z",
     "start_time": "2024-10-05T13:01:41.797694800Z"
    }
   },
   "outputs": [
    {
     "name": "stdout",
     "output_type": "stream",
     "text": [
      "Data has been successfully saved to result.json.\n"
     ]
    }
   ],
   "source": [
    "def parse_api(api_url):    \n",
    "    response = requests.get(api_url)\n",
    "    response.raise_for_status()\n",
    "\n",
    "    data = response.json()\n",
    "    with open('resources/result.json', 'w') as json_file:\n",
    "        json.dump(data, json_file, indent=4)\n",
    "\n",
    "    print(\"Data has been successfully saved to result.json.\")\n",
    "\n",
    "parse_api('https://api.github.com/')"
   ]
  },
  {
   "cell_type": "markdown",
   "metadata": {},
   "source": [
    "## Parse the json file\n",
    "\n",
    "Parse the `weather.json` file and return weather data for a specific date, that is given as a parameter. Return the data as an array."
   ]
  },
  {
   "cell_type": "code",
   "execution_count": 5,
   "metadata": {
    "ExecuteTime": {
     "end_time": "2024-10-05T13:01:42.239160300Z",
     "start_time": "2024-10-05T13:01:42.143501500Z"
    }
   },
   "outputs": [
    {
     "name": "stdout",
     "output_type": "stream",
     "text": [
      "[{'date': '2024-08-19', 'max_temperature': 30.0, 'min_temperature': 21.0, 'precipitation': 5.0, 'wind_speed': 10.0, 'humidity': 70, 'weather_description': 'Light rain'}]\n"
     ]
    }
   ],
   "source": [
    "def parse_json(date):\n",
    "    file_path = \"resources/weather.json\"\n",
    "    date_format = \"%Y-%m-%d\"\n",
    "    \n",
    "    with open(file_path, 'r') as json_file:\n",
    "        weather_data = json.load(json_file)\n",
    "\n",
    "    formatted_date = datetime.strptime(date, date_format).date()\n",
    "    filtered_data = [\n",
    "        entry for entry in weather_data['daily'] \n",
    "        if datetime.strptime(entry.get('date'), date_format).date() == formatted_date\n",
    "    ]\n",
    "    \n",
    "    return filtered_data\n",
    "    \n",
    "target_date = '2024-8-19'\n",
    "print(parse_json(target_date))"
   ]
  },
  {
   "cell_type": "markdown",
   "metadata": {},
   "source": [
    "## Parse the csv file\n",
    "\n",
    "Parse the `weather.csv` file and return weather data for a specific date, that is given as a parameter. Return the data as an array."
   ]
  },
  {
   "cell_type": "code",
   "execution_count": 6,
   "metadata": {
    "ExecuteTime": {
     "end_time": "2024-10-05T13:01:42.458974Z",
     "start_time": "2024-10-05T13:01:42.205596700Z"
    }
   },
   "outputs": [
    {
     "name": "stdout",
     "output_type": "stream",
     "text": [
      "[{'CET': '1997-5-22', 'Max TemperatureC': '25', 'Mean TemperatureC': '18', 'Min TemperatureC': '10', 'Dew PointC': '11', 'MeanDew PointC': '8', 'Min DewpointC': '6', 'Max Humidity': '88', ' Mean Humidity': '54', ' Min Humidity': '34', ' Max Sea Level PressurehPa': '1017', ' Mean Sea Level PressurehPa': '1015', ' Min Sea Level PressurehPa': '1012', ' Max VisibilityKm': '10', ' Mean VisibilityKm': '10', ' Min VisibilitykM': '10', ' Max Wind SpeedKm/h': '11', ' Mean Wind SpeedKm/h': '3', ' Max Gust SpeedKm/h': '', 'Precipitationmm': '0.00', ' CloudCover': '3', ' Events': '', 'WindDirDegrees': '277'}]\n"
     ]
    }
   ],
   "source": [
    "def parse_csv(date):\n",
    "    file_path = \"resources/weather.csv\"\n",
    "    weather_data = []\n",
    "\n",
    "    with open(file_path, mode='r') as csv_file:\n",
    "        csv_reader = csv.DictReader(csv_file)  \n",
    "\n",
    "        for row in csv_reader:\n",
    "            if row['CET'] == date:\n",
    "                weather_data.append(row)\n",
    "\n",
    "    return weather_data\n",
    "    \n",
    "target_date = '1997-5-22'\n",
    "print(parse_csv(target_date))"
   ]
  },
  {
   "cell_type": "markdown",
   "metadata": {},
   "source": [
    "## Visualize data\n",
    "\n",
    "Visualize the `weather.csv` data using matplotlib. Choose your own approach to data visualization. Save the results (as `.png`, `.webp` files etc., your choise) in this repository. "
   ]
  },
  {
   "cell_type": "code",
   "execution_count": 7,
   "metadata": {
    "ExecuteTime": {
     "end_time": "2024-10-05T13:01:44.572208700Z",
     "start_time": "2024-10-05T13:01:42.462504100Z"
    }
   },
   "outputs": [
    {
     "data": {
      "text/plain": "<Figure size 640x480 with 1 Axes>",
      "image/png": "[encoded data removed]"
     },
     "metadata": {},
     "output_type": "display_data"
    }
   ],
   "source": [
    "def visualize_data():\n",
    "    df = pd.read_csv(\n",
    "        \"resources/weather.csv\",\n",
    "        dtype={\"CET\": str},\n",
    "        usecols=[\"CET\", \"Max TemperatureC\", \"Min TemperatureC\"],\n",
    "        nrows=7)\n",
    "    \n",
    "    plt.plot(\n",
    "        df[\"CET\"],\n",
    "        df[\"Max TemperatureC\"],\n",
    "        marker=\"o\",\n",
    "        color=\"orange\",\n",
    "        label = \"Max Temperature\")\n",
    "    \n",
    "    plt.plot(\n",
    "        df[\"CET\"], \n",
    "        df[\"Min TemperatureC\"], \n",
    "        marker=\"o\", \n",
    "        color=\"blue\", \n",
    "        label=\"Min Temperature\")\n",
    "\n",
    "    plt.xlabel(\"Date\"),\n",
    "    plt.ylabel(\"Temperature °C\")\n",
    "    plt.legend()\n",
    "\n",
    "    plt.savefig(\"resources/temp.png\")\n",
    "\n",
    "visualize_data()"
   ]
  },
  {
   "cell_type": "code",
   "execution_count": 7,
   "outputs": [],
   "source": [],
   "metadata": {
    "collapsed": false,
    "ExecuteTime": {
     "end_time": "2024-10-05T13:01:44.761468Z",
     "start_time": "2024-10-05T13:01:44.569207100Z"
    }
   }
  }
 ],
 "metadata": {
  "kernelspec": {
   "display_name": "Python 3",
   "language": "python",
   "name": "python3"
  },
  "language_info": {
   "codemirror_mode": {
    "name": "ipython",
    "version": 3
   },
   "file_extension": ".py",
   "mimetype": "text/x-python",
   "name": "python",
   "nbconvert_exporter": "python",
   "pygments_lexer": "ipython3",
   "version": "3.10.0"
  }
 },
 "nbformat": 4,
 "nbformat_minor": 2
}
